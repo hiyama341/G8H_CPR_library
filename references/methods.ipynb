{
 "cells": [
  {
   "cell_type": "code",
   "execution_count": 1,
   "metadata": {},
   "outputs": [],
   "source": [
    "import sys\n",
    "from constrain.lab.PCR import pcr_volumes\n",
    "from constrain.lab.transformation import time_to_inculate"
   ]
  },
  {
   "cell_type": "markdown",
   "metadata": {},
   "source": [
    "# Transformation protocol\n",
    "\n",
    "Day before the \"Transformation day\":\n",
    "\n",
    "1.  Inoculate (~ 2 ml / transformation. Inoculate with 1 colony (or 9/10 and 1/10 colony in two tubes). Aim to transform when OD ~ 1\n",
    "\n",
    "Explaination: On the \"Transformation day\" we need cells in exponential phase AND at least 1 ml OD 1.0 culture (~ 10*10^6 cells) per transformation. As we cannot measure the amount of cells we inoculate with nor measure OD a culture just inoculated (OD too low) we inoculate multiple tubes with different amounts so at least has OD ~ 1.\n",
    "\n",
    "Transformation day:\n",
    "1. Check OD and predict when there will be cells enough \n",
    "2. Prepare: transf. medium, DNA in epp., and selection plates\n",
    "3. When enough cells, wash 2x in H2O, and resuspend in trasformation medium\n",
    "4. Aliquot into epp.\n",
    "5. Incubate epp. for 45 min at 42 C, remove medium, then plate\n",
    "\n",
    "Explaination:\n",
    "- Centrifuge: 5000 rpm for 3 min\n",
    "- Wash volumes: comparable to medium volume"
   ]
  },
  {
   "cell_type": "code",
   "execution_count": 2,
   "metadata": {},
   "outputs": [
    {
     "name": "stdout",
     "output_type": "stream",
     "text": [
      "Assumed that: \n",
      "- transformation time 12 (reached OD=1 the day after)\n"
     ]
    },
    {
     "data": {
      "image/png": "[encoded data removed]",
      "text/plain": [
       "<Figure size 432x288 with 1 Axes>"
      ]
     },
     "metadata": {
      "needs_background": "light"
     },
     "output_type": "display_data"
    },
    {
     "name": "stdout",
     "output_type": "stream",
     "text": [
      "Hours to OD = 1: \t26 hours\n",
      "Transformation time has been set to  12\n",
      "Time of inoculation: \t10 (the day before)\n",
      "\n",
      "If you innoculate now, the cells will have reached OD= 1 by:   2022-09-24 16:16:59.862900\n"
     ]
    }
   ],
   "source": [
    "time_to_inculate(td=0.33)"
   ]
  },
  {
   "cell_type": "markdown",
   "metadata": {},
   "source": [
    "Transformation medium"
   ]
  },
  {
   "cell_type": "code",
   "execution_count": 3,
   "metadata": {},
   "outputs": [
    {
     "data": {
      "text/html": [
       "<div>\n",
       "<style scoped>\n",
       "    .dataframe tbody tr th:only-of-type {\n",
       "        vertical-align: middle;\n",
       "    }\n",
       "\n",
       "    .dataframe tbody tr th {\n",
       "        vertical-align: top;\n",
       "    }\n",
       "\n",
       "    .dataframe thead th {\n",
       "        text-align: right;\n",
       "    }\n",
       "</style>\n",
       "<table border=\"1\" class=\"dataframe\">\n",
       "  <thead>\n",
       "    <tr style=\"text-align: right;\">\n",
       "      <th></th>\n",
       "      <th>vol_p_reac</th>\n",
       "      <th>vol_p_1_reac</th>\n",
       "    </tr>\n",
       "  </thead>\n",
       "  <tbody>\n",
       "    <tr>\n",
       "      <th>PEG</th>\n",
       "      <td>60.0</td>\n",
       "      <td>60.0</td>\n",
       "    </tr>\n",
       "    <tr>\n",
       "      <th>LiAc_1M</th>\n",
       "      <td>9.0</td>\n",
       "      <td>9.0</td>\n",
       "    </tr>\n",
       "    <tr>\n",
       "      <th>ssDNA</th>\n",
       "      <td>2.5</td>\n",
       "      <td>2.5</td>\n",
       "    </tr>\n",
       "    <tr>\n",
       "      <th>water_dna</th>\n",
       "      <td>18.5</td>\n",
       "      <td>18.5</td>\n",
       "    </tr>\n",
       "    <tr>\n",
       "      <th>Total</th>\n",
       "      <td>90.0</td>\n",
       "      <td>90.0</td>\n",
       "    </tr>\n",
       "  </tbody>\n",
       "</table>\n",
       "</div>"
      ],
      "text/plain": [
       "           vol_p_reac  vol_p_1_reac\n",
       "PEG              60.0          60.0\n",
       "LiAc_1M           9.0           9.0\n",
       "ssDNA             2.5           2.5\n",
       "water_dna        18.5          18.5\n",
       "Total            90.0          90.0"
      ]
     },
     "execution_count": 3,
     "metadata": {},
     "output_type": "execute_result"
    }
   ],
   "source": [
    "pcr_volumes(vol_p_reac = 90, \n",
    "        no_of_reactions = 1,\n",
    "        standard_reagents = [\"PEG\", \"LiAc_1M\", \"ssDNA\", \"water_dna\"],\n",
    "        standard_volumes = [240, 36, 10, 74])"
   ]
  },
  {
   "cell_type": "markdown",
   "metadata": {},
   "source": [
    "# HT Yeast DNA extraction for PCR\n",
    "\n",
    "1. Suspend cell pellets in 40 μL of 200 mM lithium acetate + 1% SDS solution\n",
    "2. Incubate at 70°C for 15 min\n",
    "3. Add 120 μL of absolute ethanol for DNA precipitation, mix by brief vortexing\n",
    "4. Collect DNA by centrifugation (2200× g) for 5 min;\n",
    "5. Remove supernatant and wash the pellet with 160 μL of 70% ethanol\n",
    "6. Suspend the pellet in 30 μL TE to dissolve DNA\n",
    "7. Remove the debris by centrifugation (2200× g for 5 min)\n",
    "8. Transfer 20 µL supernatant (DNA in TE buffer) to a clean plate\n",
    "9. Use 1 μL supernatant was used for PCR."
   ]
  },
  {
   "cell_type": "markdown",
   "metadata": {},
   "source": [
    "# Gels"
   ]
  },
  {
   "cell_type": "markdown",
   "metadata": {},
   "source": [
    "All gel images:\n",
    "\n",
    "In Preview\n",
    "- copied, cropped, and saved as jpg\n",
    "- in 'adjust color' max exposure, max shadows\n",
    "- annotated with filename, sample number to well correspondande and other helpfull annotations "
   ]
  }
 ],
 "metadata": {
  "interpreter": {
   "hash": "9bef7cf9e0d21eaeded49ffb7407ef726121738c5b84c6533cc58d29847dbefe"
  },
  "kernelspec": {
   "display_name": "Python 3 (ipykernel)",
   "language": "python",
   "name": "python3"
  },
  "language_info": {
   "codemirror_mode": {
    "name": "ipython",
    "version": 3
   },
   "file_extension": ".py",
   "mimetype": "text/x-python",
   "name": "python",
   "nbconvert_exporter": "python",
   "pygments_lexer": "ipython3",
   "version": "3.8.13"
  }
 },
 "nbformat": 4,
 "nbformat_minor": 4
}
